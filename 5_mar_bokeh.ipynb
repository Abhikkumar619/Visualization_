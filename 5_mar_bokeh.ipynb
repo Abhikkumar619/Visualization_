{
  "nbformat": 4,
  "nbformat_minor": 0,
  "metadata": {
    "colab": {
      "provenance": []
    },
    "kernelspec": {
      "name": "python3",
      "display_name": "Python 3"
    },
    "language_info": {
      "name": "python"
    }
  },
  "cells": [
    {
      "cell_type": "code",
      "source": [
        "\"\"\"\n",
        "Q1. How can you create a Bokeh plot using Python code?\n",
        "Ans: \n",
        "\"\"\"\n",
        "import bokeh.io\n",
        "import bokeh.plotting\n",
        "bokeh.io.output_notebook()\n",
        "from bokeh.plotting import figure, output_file, show"
      ],
      "metadata": {
        "id": "pr-A4CxUdUx5"
      },
      "execution_count": null,
      "outputs": []
    },
    {
      "cell_type": "code",
      "source": [
        "\"\"\"\n",
        "Q2. What are glyphs in Bokeh, and how can you add them to a Bokeh plot? Explain with an example.\n",
        "Ans: A glyph is a vectorized graphical shape or marker that is used to represent your data.\n",
        "\"\"\""
      ],
      "metadata": {
        "id": "6dhmFbwccxt8"
      },
      "execution_count": null,
      "outputs": []
    },
    {
      "cell_type": "code",
      "source": [
        "\"\"\"\n",
        "Q3. How can you customize the appearance of a Bokeh plot, including the axes, title,\n",
        " and legend?\n",
        "Ans: To customize the title of yourplot, you we set the title property of your plot object1.and\n",
        " legend, we can set properties such as location, orientation, background color, border line color and width, label text font size and style"
      ],
      "metadata": {
        "id": "QB7a-xSIcWdm"
      },
      "execution_count": null,
      "outputs": []
    },
    {
      "cell_type": "code",
      "source": [
        "\"\"\"\n",
        "# Q4. What is a Bokeh server, and how can you use it to create interactive plots that can be updated in\n",
        "# real time?\n",
        "\n",
        "# Ans: Bikeh server is easy way to create interactive web application that conncect front-end UI \n",
        "    #  events to running python code.\n",
        "\n",
        "    #  We can create bokeh.plotting \n",
        "     1. prepare data \n",
        "     2. create a new plot. \n",
        "     3. ass render for data, with your visual customization for the plot. \n",
        "     4. specify where to generate the output \n",
        "     5. show output.\n",
        "\n",
        "    #  Yes , bokeh server can execute the application sode.\n",
        "\"\"\""
      ],
      "metadata": {
        "id": "NhTRcqkdYBuy"
      },
      "execution_count": null,
      "outputs": []
    },
    {
      "cell_type": "code",
      "source": [
        "# Q5. How can you embed a Bokeh plot into a web page or dashboard using Flask or Django?\n",
        "# Ans: \n",
        "from flask import Flask, render_template_string\n",
        "from bokeh.plotting import figure\n",
        "from bokeh.embed import file_html\n",
        "from bokeh.resources import CDN\n",
        "\n",
        "app = Flask(__name__)\n",
        "\n",
        "@app.route('/')\n",
        "def home():\n",
        "    plot = figure()\n",
        "    plot.circle([1, 2], [3, 4])\n",
        "    return render_template_string(file_html(plot, CDN, \"my plot\"))\n",
        "\n",
        "if __name__ == '__main__':\n",
        "    app.run(debug=True)"
      ],
      "metadata": {
        "id": "hQs-1JQXaMI7"
      },
      "execution_count": null,
      "outputs": []
    }
  ]
}